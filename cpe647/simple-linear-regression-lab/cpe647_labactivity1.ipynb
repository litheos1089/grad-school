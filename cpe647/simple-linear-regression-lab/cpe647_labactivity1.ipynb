{
 "cells": [
  {
   "cell_type": "code",
   "execution_count": 3,
   "metadata": {},
   "outputs": [
    {
     "name": "stdout",
     "output_type": "stream",
     "text": [
      "[634605.26315789 915394.73684211]\n"
     ]
    }
   ],
   "source": [
    "import numpy as np\n",
    "import matplotlib.pyplot as plt\n",
    "import pandas as pd\n",
    "import seaborn as sns\n",
    "%matplotlib inline\n",
    "from sklearn.model_selection import train_test_split\n",
    "\n",
    "dataset = pd.read_csv('/workspaces/codespaces-jupyter/data/home-prices.csv')\n",
    "\n",
    "\n",
    "#assign x and y values\n",
    "x = dataset.iloc[:,:-1].values\n",
    "y = dataset.iloc[:,-1].values\n",
    "\n",
    "\n",
    "#split the dataset:\n",
    "x_train,x_test,y_train,y_test = train_test_split(x,y,test_size=0.22,random_state=42)\n",
    "\n",
    "#Create linear regression model\n",
    "from sklearn.linear_model import LinearRegression\n",
    "\n",
    "pred = LinearRegression()\n",
    "pred.fit(x_train,y_train)\n",
    "\n",
    "#create prediction area\n",
    "area = [[3300],[5500]]\n",
    "price_pred = pred.predict(area)\n",
    "\n",
    "#display prediction\n",
    "print(price_pred)"
   ]
  },
  {
   "cell_type": "code",
   "execution_count": null,
   "metadata": {},
   "outputs": [],
   "source": []
  }
 ],
 "metadata": {
  "kernelspec": {
   "display_name": "Python 3",
   "language": "python",
   "name": "python3"
  },
  "language_info": {
   "codemirror_mode": {
    "name": "ipython",
    "version": 3
   },
   "file_extension": ".py",
   "mimetype": "text/x-python",
   "name": "python",
   "nbconvert_exporter": "python",
   "pygments_lexer": "ipython3",
   "version": "3.10.13"
  }
 },
 "nbformat": 4,
 "nbformat_minor": 2
}
